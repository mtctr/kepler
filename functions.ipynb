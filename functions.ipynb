{
 "cells": [
  {
   "cell_type": "markdown",
   "metadata": {},
   "source": [
    "### Packages"
   ]
  },
  {
   "cell_type": "code",
   "execution_count": 29,
   "metadata": {},
   "outputs": [],
   "source": [
    "import os\n",
    "import pandas as pd\n",
    "import seaborn as sns\n",
    "import matplotlib.pyplot as plt\n",
    "from astropy.io import ascii"
   ]
  },
  {
   "cell_type": "markdown",
   "metadata": {},
   "source": [
    "### Functions"
   ]
  },
  {
   "cell_type": "code",
   "execution_count": 24,
   "metadata": {},
   "outputs": [],
   "source": [
    "def read_data(folder_path):\n",
    "    filenames = os.listdir(folder_path)\n",
    "    for filename in filenames:\n",
    "        if(filename.endswith('.tbl')):\n",
    "            first_file = filename\n",
    "            break\n",
    "    \n",
    "    df_data = ascii.read(folder_path + first_file).to_pandas()\n",
    "    \n",
    "    for filename in filenames:\n",
    "        if(filename.endswith('.tbl') and not filename == first_file):\n",
    "            data = ascii.read(folder_path + filename).to_pandas()\n",
    "            df_data = df_data.append(data)\n",
    "    \n",
    "    return df_data        "
   ]
  },
  {
   "cell_type": "code",
   "execution_count": 30,
   "metadata": {},
   "outputs": [],
   "source": [
    "def plot_data(data_x, data_y, label_x='Time', label_y='Flux', title=''):\n",
    "    plt.figure(1,dpi=300)\n",
    "    sns.set()\n",
    "    sns.lineplot(data_x, data_y)\n",
    "    plt.xlabel('Time')\n",
    "    plt.ylabel('Flux')\n",
    "    plt.title(title)\n",
    "    plt.show()"
   ]
  },
  {
   "cell_type": "code",
   "execution_count": 32,
   "metadata": {},
   "outputs": [],
   "source": [
    "def remove_noise(df,data):\n",
    "    df['MEDIAN'] = data.rolling(10).median()"
   ]
  }
 ],
 "metadata": {
  "kernelspec": {
   "display_name": "Python 3",
   "language": "python",
   "name": "python3"
  },
  "language_info": {
   "codemirror_mode": {
    "name": "ipython",
    "version": 3
   },
   "file_extension": ".py",
   "mimetype": "text/x-python",
   "name": "python",
   "nbconvert_exporter": "python",
   "pygments_lexer": "ipython3",
   "version": "3.7.0"
  }
 },
 "nbformat": 4,
 "nbformat_minor": 2
}
