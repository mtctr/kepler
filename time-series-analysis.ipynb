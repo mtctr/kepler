{
 "cells": [
  {
   "cell_type": "code",
   "execution_count": 1,
   "metadata": {},
   "outputs": [],
   "source": [
    "import get_kepler"
   ]
  },
  {
   "cell_type": "code",
   "execution_count": 2,
   "metadata": {},
   "outputs": [],
   "source": [
    "import pandas as pd"
   ]
  },
  {
   "cell_type": "code",
   "execution_count": 3,
   "metadata": {},
   "outputs": [],
   "source": [
    "kics = pd.read_csv(\"periods.csv\")"
   ]
  },
  {
   "cell_type": "code",
   "execution_count": null,
   "metadata": {
    "scrolled": true
   },
   "outputs": [],
   "source": [
    "kics.info()"
   ]
  },
  {
   "cell_type": "code",
   "execution_count": 3,
   "metadata": {},
   "outputs": [],
   "source": [
    "kics2 = pd.read_csv(\"keplerperiods.csv\")"
   ]
  },
  {
   "cell_type": "code",
   "execution_count": 4,
   "metadata": {
    "scrolled": true
   },
   "outputs": [
    {
     "name": "stdout",
     "output_type": "stream",
     "text": [
      "<class 'pandas.core.frame.DataFrame'>\n",
      "RangeIndex: 996 entries, 0 to 995\n",
      "Data columns (total 7 columns):\n",
      "KIC       996 non-null int64\n",
      "Period    996 non-null float64\n",
      "teff      996 non-null float64\n",
      "logg      996 non-null float64\n",
      "radius    996 non-null float64\n",
      "mass      996 non-null float64\n",
      "dens      996 non-null float64\n",
      "dtypes: float64(6), int64(1)\n",
      "memory usage: 54.6 KB\n"
     ]
    }
   ],
   "source": [
    "kics2.info()"
   ]
  },
  {
   "cell_type": "code",
   "execution_count": null,
   "metadata": {},
   "outputs": [],
   "source": [
    "kics.head()"
   ]
  },
  {
   "cell_type": "code",
   "execution_count": 4,
   "metadata": {},
   "outputs": [
    {
     "data": {
      "text/html": [
       "<div>\n",
       "<style scoped>\n",
       "    .dataframe tbody tr th:only-of-type {\n",
       "        vertical-align: middle;\n",
       "    }\n",
       "\n",
       "    .dataframe tbody tr th {\n",
       "        vertical-align: top;\n",
       "    }\n",
       "\n",
       "    .dataframe thead th {\n",
       "        text-align: right;\n",
       "    }\n",
       "</style>\n",
       "<table border=\"1\" class=\"dataframe\">\n",
       "  <thead>\n",
       "    <tr style=\"text-align: right;\">\n",
       "      <th></th>\n",
       "      <th>KIC</th>\n",
       "      <th>Period</th>\n",
       "      <th>teff</th>\n",
       "      <th>logg</th>\n",
       "      <th>radius</th>\n",
       "      <th>mass</th>\n",
       "      <th>dens</th>\n",
       "    </tr>\n",
       "  </thead>\n",
       "  <tbody>\n",
       "    <tr>\n",
       "      <th>0</th>\n",
       "      <td>10280371</td>\n",
       "      <td>15.122</td>\n",
       "      <td>5864.0</td>\n",
       "      <td>4.094</td>\n",
       "      <td>1.473</td>\n",
       "      <td>0.982</td>\n",
       "      <td>0.43310</td>\n",
       "    </tr>\n",
       "    <tr>\n",
       "      <th>1</th>\n",
       "      <td>11921886</td>\n",
       "      <td>4.438</td>\n",
       "      <td>5510.0</td>\n",
       "      <td>3.639</td>\n",
       "      <td>2.608</td>\n",
       "      <td>1.080</td>\n",
       "      <td>0.08575</td>\n",
       "    </tr>\n",
       "    <tr>\n",
       "      <th>2</th>\n",
       "      <td>11768170</td>\n",
       "      <td>13.486</td>\n",
       "      <td>5295.0</td>\n",
       "      <td>3.701</td>\n",
       "      <td>2.696</td>\n",
       "      <td>1.331</td>\n",
       "      <td>0.09567</td>\n",
       "    </tr>\n",
       "    <tr>\n",
       "      <th>3</th>\n",
       "      <td>7269974</td>\n",
       "      <td>1.378</td>\n",
       "      <td>5539.0</td>\n",
       "      <td>4.332</td>\n",
       "      <td>1.098</td>\n",
       "      <td>0.942</td>\n",
       "      <td>1.00400</td>\n",
       "    </tr>\n",
       "    <tr>\n",
       "      <th>4</th>\n",
       "      <td>2163808</td>\n",
       "      <td>7.389</td>\n",
       "      <td>5739.0</td>\n",
       "      <td>4.051</td>\n",
       "      <td>1.486</td>\n",
       "      <td>0.905</td>\n",
       "      <td>0.38860</td>\n",
       "    </tr>\n",
       "  </tbody>\n",
       "</table>\n",
       "</div>"
      ],
      "text/plain": [
       "        KIC  Period    teff   logg  radius   mass     dens\n",
       "0  10280371  15.122  5864.0  4.094   1.473  0.982  0.43310\n",
       "1  11921886   4.438  5510.0  3.639   2.608  1.080  0.08575\n",
       "2  11768170  13.486  5295.0  3.701   2.696  1.331  0.09567\n",
       "3   7269974   1.378  5539.0  4.332   1.098  0.942  1.00400\n",
       "4   2163808   7.389  5739.0  4.051   1.486  0.905  0.38860"
      ]
     },
     "execution_count": 4,
     "metadata": {},
     "output_type": "execute_result"
    }
   ],
   "source": [
    "kics2.head()"
   ]
  },
  {
   "cell_type": "code",
   "execution_count": null,
   "metadata": {},
   "outputs": [],
   "source": [
    "df_keplers = pd.read_csv(\"keplers.csv\")"
   ]
  },
  {
   "cell_type": "code",
   "execution_count": null,
   "metadata": {},
   "outputs": [],
   "source": [
    "df_keplers = df_keplers[['kepid','teff','logg','radius','mass','dens']]"
   ]
  },
  {
   "cell_type": "code",
   "execution_count": null,
   "metadata": {},
   "outputs": [],
   "source": [
    "df_periods = pd.DataFrame()\n",
    "columns = [\"KIC\",\"Period\"]\n",
    "for kic in kics2.KIC:\n",
    "    try:\n",
    "        df = get_kepler.read_csv(kic)\n",
    "        per = df[\"period\"]\n",
    "        df_periods = df_periods.append(pd.DataFrame(data=[[kic,per]],columns=columns))\n",
    "    except Exception as e:\n",
    "        print(e)\n",
    "        df_periods = df_periods.append(pd.DataFrame(data=[[kic,0.0]],columns=columns))"
   ]
  },
  {
   "cell_type": "code",
   "execution_count": null,
   "metadata": {},
   "outputs": [],
   "source": [
    "df_periods = kics.merge(df_keplers,left_on='KIC',right_on='kepid')"
   ]
  },
  {
   "cell_type": "code",
   "execution_count": null,
   "metadata": {},
   "outputs": [],
   "source": [
    "df_periods = df_periods.drop(columns=['kepid'])"
   ]
  },
  {
   "cell_type": "code",
   "execution_count": null,
   "metadata": {},
   "outputs": [],
   "source": [
    "df_periods.head()"
   ]
  },
  {
   "cell_type": "code",
   "execution_count": null,
   "metadata": {},
   "outputs": [],
   "source": []
  },
  {
   "cell_type": "code",
   "execution_count": null,
   "metadata": {},
   "outputs": [],
   "source": [
    "df_periods_2 = pd.read_csv(\"keplerperiods.csv\")"
   ]
  },
  {
   "cell_type": "code",
   "execution_count": null,
   "metadata": {},
   "outputs": [],
   "source": [
    "df_periods_2.head()"
   ]
  },
  {
   "cell_type": "code",
   "execution_count": null,
   "metadata": {},
   "outputs": [],
   "source": [
    "df_valids = df_periods[(df_periods.Period > 0)&(df_periods.Period < 55)]"
   ]
  },
  {
   "cell_type": "code",
   "execution_count": null,
   "metadata": {},
   "outputs": [],
   "source": [
    "df_valids.info()"
   ]
  },
  {
   "cell_type": "code",
   "execution_count": null,
   "metadata": {},
   "outputs": [],
   "source": [
    "import seaborn as sns\n",
    "import matplotlib.pyplot as plt"
   ]
  },
  {
   "cell_type": "code",
   "execution_count": null,
   "metadata": {},
   "outputs": [],
   "source": [
    "sns.set_palette(sns.cubehelix_palette(8, start=.5, rot=-.75))"
   ]
  },
  {
   "cell_type": "code",
   "execution_count": null,
   "metadata": {},
   "outputs": [],
   "source": [
    "plt.figure(1,dpi=500)\n",
    "sns.pairplot(df_periods.drop(columns=[\"KIC\"]))"
   ]
  },
  {
   "cell_type": "code",
   "execution_count": null,
   "metadata": {},
   "outputs": [],
   "source": [
    "sns.relplot(x='teff',y='Period', data=df_periods)"
   ]
  },
  {
   "cell_type": "code",
   "execution_count": null,
   "metadata": {},
   "outputs": [],
   "source": [
    "1 <= 2"
   ]
  },
  {
   "cell_type": "code",
   "execution_count": null,
   "metadata": {},
   "outputs": [],
   "source": [
    "import utils"
   ]
  }
 ],
 "metadata": {
  "kernelspec": {
   "display_name": "Python 3",
   "language": "python",
   "name": "python3"
  },
  "language_info": {
   "codemirror_mode": {
    "name": "ipython",
    "version": 3
   },
   "file_extension": ".py",
   "mimetype": "text/x-python",
   "name": "python",
   "nbconvert_exporter": "python",
   "pygments_lexer": "ipython3",
   "version": "3.7.3"
  }
 },
 "nbformat": 4,
 "nbformat_minor": 2
}
