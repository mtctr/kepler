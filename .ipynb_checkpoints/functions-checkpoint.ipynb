{
 "cells": [
  {
   "cell_type": "markdown",
   "metadata": {},
   "source": [
    "### Packages"
   ]
  },
  {
   "cell_type": "code",
   "execution_count": 1,
   "metadata": {},
   "outputs": [],
   "source": [
    "import os\n",
    "import pandas as pd\n",
    "import seaborn as sns\n",
    "from astropy.io import ascii"
   ]
  },
  {
   "cell_type": "markdown",
   "metadata": {},
   "source": [
    "### Functions"
   ]
  },
  {
   "cell_type": "code",
   "execution_count": 24,
   "metadata": {},
   "outputs": [],
   "source": [
    "def read_data(folder_path):\n",
    "    filenames = os.listdir(folder_path)\n",
    "    for filename in filenames:\n",
    "        if(filename.endswith('.tbl')):\n",
    "            first_file = filename\n",
    "            break\n",
    "    \n",
    "    df_data = ascii.read(folder_path + first_file).to_pandas()\n",
    "    \n",
    "    for filename in filenames:\n",
    "        if(filename.endswith('.tbl') and not filename == first_file):\n",
    "            data = ascii.read(folder_path + filename).to_pandas()\n",
    "            df_data = df_data.append(data)\n",
    "    \n",
    "    return df_data        "
   ]
  },
  {
   "cell_type": "code",
   "execution_count": null,
   "metadata": {},
   "outputs": [],
   "source": [
    "def plot_data(dataframe):\n",
    "    "
   ]
  },
  {
   "cell_type": "code",
   "execution_count": 22,
   "metadata": {},
   "outputs": [],
   "source": [
    "data = read_data('datasets/time-curves/2301590/')"
   ]
  },
  {
   "cell_type": "code",
   "execution_count": 23,
   "metadata": {},
   "outputs": [
    {
     "name": "stdout",
     "output_type": "stream",
     "text": [
      "<class 'pandas.core.frame.DataFrame'>\n",
      "Int64Index: 69302 entries, 0 to 1555\n",
      "Data columns (total 21 columns):\n",
      "TIME               66388 non-null float64\n",
      "TIME_BJD           66388 non-null float64\n",
      "TIMECORR           69302 non-null float64\n",
      "CADENCENO          69302 non-null float64\n",
      "SAP_FLUX           65434 non-null float64\n",
      "SAP_FLUX_ERR       65434 non-null float64\n",
      "SAP_BKG            65434 non-null float64\n",
      "SAP_BKG_ERR        65434 non-null float64\n",
      "PDCSAP_FLUX        64795 non-null float64\n",
      "PDCSAP_FLUX_ERR    64795 non-null float64\n",
      "SAP_QUALITY        69302 non-null float64\n",
      "PSF_CENTR1         0 non-null float64\n",
      "PSF_CENTR1_ERR     0 non-null float64\n",
      "PSF_CENTR2         0 non-null float64\n",
      "PSF_CENTR2_ERR     0 non-null float64\n",
      "MOM_CENTR1         65434 non-null float64\n",
      "MOM_CENTR1_ERR     65434 non-null float64\n",
      "MOM_CENTR2         65434 non-null float64\n",
      "MOM_CENTR2_ERR     65434 non-null float64\n",
      "POS_CORR1          65646 non-null float64\n",
      "POS_CORR2          65646 non-null float64\n",
      "dtypes: float64(21)\n",
      "memory usage: 11.6 MB\n"
     ]
    }
   ],
   "source": []
  }
 ],
 "metadata": {
  "kernelspec": {
   "display_name": "Python 3",
   "language": "python",
   "name": "python3"
  },
  "language_info": {
   "codemirror_mode": {
    "name": "ipython",
    "version": 3
   },
   "file_extension": ".py",
   "mimetype": "text/x-python",
   "name": "python",
   "nbconvert_exporter": "python",
   "pygments_lexer": "ipython3",
   "version": "3.7.0"
  }
 },
 "nbformat": 4,
 "nbformat_minor": 2
}
